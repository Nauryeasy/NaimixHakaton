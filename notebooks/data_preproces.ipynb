{
 "cells": [
  {
   "cell_type": "code",
   "execution_count": 1,
   "metadata": {},
   "outputs": [],
   "source": [
    "import pathlib\n",
    "data_dir = pathlib.Path().resolve().parent/\"data\""
   ]
  },
  {
   "cell_type": "code",
   "execution_count": 5,
   "metadata": {},
   "outputs": [
    {
     "ename": "Error",
     "evalue": "swisseph.calc_ut: SwissEph file 'se13681s.se1' not found in PATH 'C:\\Users\\egor\\files\\projects\\NaimixHakaton\\data\\ephemeris\\'",
     "output_type": "error",
     "traceback": [
      "\u001b[1;31m---------------------------------------------------------------------------\u001b[0m",
      "\u001b[1;31mError\u001b[0m                                     Traceback (most recent call last)",
      "Cell \u001b[1;32mIn[5], line 6\u001b[0m\n\u001b[0;32m      3\u001b[0m swe\u001b[38;5;241m.\u001b[39mset_ephe_path(\u001b[38;5;28mstr\u001b[39m(data_dir\u001b[38;5;241m/\u001b[39m\u001b[38;5;124m'\u001b[39m\u001b[38;5;124mephemeris\u001b[39m\u001b[38;5;124m'\u001b[39m))\n\u001b[0;32m      5\u001b[0m jd \u001b[38;5;241m=\u001b[39m swe\u001b[38;5;241m.\u001b[39mjulday(\u001b[38;5;241m2008\u001b[39m, \u001b[38;5;241m3\u001b[39m, \u001b[38;5;241m21\u001b[39m)\n\u001b[1;32m----> 6\u001b[0m xx, rflags \u001b[38;5;241m=\u001b[39m \u001b[43mswe\u001b[49m\u001b[38;5;241;43m.\u001b[39;49m\u001b[43mcalc_ut\u001b[49m\u001b[43m(\u001b[49m\u001b[43mjd\u001b[49m\u001b[43m,\u001b[49m\u001b[43m \u001b[49m\u001b[43mswe\u001b[49m\u001b[38;5;241;43m.\u001b[39;49m\u001b[43mAST_OFFSET\u001b[49m\u001b[38;5;241;43m+\u001b[39;49m\u001b[38;5;241;43m13681\u001b[39;49m\u001b[43m)\u001b[49m\n",
      "\u001b[1;31mError\u001b[0m: swisseph.calc_ut: SwissEph file 'se13681s.se1' not found in PATH 'C:\\Users\\egor\\files\\projects\\NaimixHakaton\\data\\ephemeris\\'"
     ]
    }
   ],
   "source": [
    "import swisseph as swe\n",
    "\n",
    "swe.set_ephe_path(str(data_dir/'ephemeris'))\n",
    "jd = swe.julday(2008, 3, 21)\n",
    "xx, rflags = swe.calc_ut(jd, swe.AST_OFFSET+13681)"
   ]
  },
  {
   "cell_type": "code",
   "execution_count": null,
   "metadata": {},
   "outputs": [],
   "source": []
  }
 ],
 "metadata": {
  "kernelspec": {
   "display_name": "leadapiappfinal-yRkPzyXw-py3.11",
   "language": "python",
   "name": "python3"
  },
  "language_info": {
   "codemirror_mode": {
    "name": "ipython",
    "version": 3
   },
   "file_extension": ".py",
   "mimetype": "text/x-python",
   "name": "python",
   "nbconvert_exporter": "python",
   "pygments_lexer": "ipython3",
   "version": "3.11.9"
  }
 },
 "nbformat": 4,
 "nbformat_minor": 2
}
